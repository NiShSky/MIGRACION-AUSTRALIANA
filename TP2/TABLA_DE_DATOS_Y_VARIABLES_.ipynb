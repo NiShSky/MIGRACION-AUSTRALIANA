{
  "nbformat": 4,
  "nbformat_minor": 0,
  "metadata": {
    "colab": {
      "provenance": [],
      "authorship_tag": "ABX9TyN3DMoRUnGk9aN68mf4rsW8",
      "include_colab_link": true
    },
    "kernelspec": {
      "name": "python3",
      "display_name": "Python 3"
    },
    "language_info": {
      "name": "python"
    }
  },
  "cells": [
    {
      "cell_type": "markdown",
      "metadata": {
        "id": "view-in-github",
        "colab_type": "text"
      },
      "source": [
        "<a href=\"https://colab.research.google.com/github/NiShSky/MIGRACION-AUSTRALIANA/blob/main/TP2/TABLA_DE_DATOS_Y_VARIABLES_.ipynb\" target=\"_parent\"><img src=\"https://colab.research.google.com/assets/colab-badge.svg\" alt=\"Open In Colab\"/></a>"
      ]
    },
    {
      "cell_type": "markdown",
      "source": [
        "| Variable                   | Dato          | DataType | Origen                       | Fórmula                                                                                     |\n",
        "|-----------------------------|---------------|----------|------------------------------|----------------------------------------------------------------------------------------------|\n",
        "| Tipo_Familia                | String        | String   | Se pregunta                  |                                                                                              |\n",
        "| Sexo_Padre                  | String        | String   | Se pregunta                  |                                                                                              |\n",
        "| Fecha_Nacimiento_Padre      | Date          | Date     | Se pregunta                  |                                                                                              |\n",
        "| Grado_Academico_Padre       | String        | String   | Se pregunta                  |                                                                                              |\n",
        "| Oficio_Padre                | String        | String   | Se pregunta                  |                                                                                              |\n",
        "| Sexo_Madre                  | String        | String   | Se pregunta                  |                                                                                              |\n",
        "| Fecha_Nacimiento_Madre      | Date          | Date     | Se pregunta                  |                                                                                              |\n",
        "| Grado_Academico_Madre       | String        | String   | Se pregunta                  |                                                                                              |\n",
        "| Oficio_Madre                | String        | String   | Se pregunta                  |                                                                                              |\n",
        "| Cantidad_Hijos             | Integer       | Integer  | Se pregunta                  |                                                                                              |\n",
        "| Sexo_Hijo                   | String        | String   | Se pregunta          |                                                                                              |\n",
        "| Fecha_Nacimiento_Hijo       | Date          | Date     | Se pregunta           |                                                                                              |\n",
        "| Puntaje_Edad_Fertil_Padres  | Integer       | Integer  | Se calcula                   | 15 - (Fecha_Actual - Fecha_Nacimiento_Padre/Madre) - 20                                       |\n",
        "| Puntaje_Edad_Fertil_Madre   | Integer       | Integer  | Se calcula                   | 15 - (Fecha_Actual - Fecha_Nacimiento_Madre) - 20                                            |\n",
        "| Puntaje_Sexo_F_Padres       | Integer       | Integer  | Se calcula según respuestas  | Suma de puntos por cada año dentro de la edad fértil de la madre                              |\n",
        "| Puntaje_Sexo_F_Hijos        | Integer       | Integer  | Se calcula según respuestas  | Suma de puntos por cada año dentro de la edad fértil de la madre                              |\n",
        "| Puntaje_Oficio_Padres       | Integer       | Integer  | Se calcula según respuestas  | 8 puntos adicionales                                                                   |\n",
        "| Puntaje_Grado_Padres        | Integer       | Integer  | Se calcula según respuestas  | 5 puntos si postgrado, 3 puntos si universitario o técnico                        |\n",
        "| Puntaje_Oficio_Madre        | Integer       | Integer  | Se calcula según respuestas  | 8 puntos adicionales                                                                   |\n",
        "| Puntaje_Grado_Madre         | Integer       | Integer  | Se calcula según respuestas  | 5 puntos si postgrado, 3 puntos si universitario o técnico                        |\n",
        "| Puntaje_Padres              | Integer       | Integer  | Se calcula                   | Puntaje_Edad_Fertil_Padres + Puntaje_Sexo_F_Padres + Puntaje_Oficio_Padres + Puntaje_Grado_Padres|\n",
        "| Puntaje_Hijos               | Integer       | Integer  | Se calcula                   | Puntaje_Sexo_F_Hijos para cada hijo                                                        |\n",
        "| Puntaje_Total               | Integer       | Integer  | Se calcula                   | Puntaje_Padres + Puntaje_Hijos                                                        |"
      ],
      "metadata": {
        "id": "Au3g3fegzbg0"
      }
    }
  ]
}