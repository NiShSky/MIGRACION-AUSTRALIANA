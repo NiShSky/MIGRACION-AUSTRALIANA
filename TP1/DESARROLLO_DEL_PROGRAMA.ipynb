{
  "nbformat": 4,
  "nbformat_minor": 0,
  "metadata": {
    "colab": {
      "provenance": [],
      "authorship_tag": "ABX9TyO6NTai6J+Onqzu7YCRkMp0",
      "include_colab_link": true
    },
    "kernelspec": {
      "name": "python3",
      "display_name": "Python 3"
    },
    "language_info": {
      "name": "python"
    }
  },
  "cells": [
    {
      "cell_type": "markdown",
      "metadata": {
        "id": "view-in-github",
        "colab_type": "text"
      },
      "source": [
        "<a href=\"https://colab.research.google.com/github/NiShSky/MIGRACION-AUSTRALIANA/blob/main/TP1/DESARROLLO_DEL_PROGRAMA.ipynb\" target=\"_parent\"><img src=\"https://colab.research.google.com/assets/colab-badge.svg\" alt=\"Open In Colab\"/></a>"
      ]
    },
    {
      "cell_type": "markdown",
      "source": [
        "                                            CASO POR RESOLVER\n",
        "\n",
        "El Instituto de Migración de Australia tiene un algoritmo de calificación de familias que solicitan la residencia, en caso de que toda la familia decida migrar. No es sorpresa que el puntaje de las familias esté en función de la probabilidad de contribuir con el aumento demográfico de la nación, y con los oficios que tienen mucha demanda y poca oferta. La aplicación pregunta primero si la familia es monoparental (un solo padre) o biparental (ambos padres). Dependiendo de la respuesta, preguntará los datos de los padres; si es monoparental solo pregunta los datos del único progenitor; si es biparental, pregunta los datos de ambos progenitores. Los datos que se preguntan de los progenitores son: Sexo (M: Masculino; F: Femenino; N: No binario). Se pregunta la fecha de nacimiento. Se pregunta el grado académico (P: Postgraduado; U: Universitario; T: Técnico; N: Ninguno). Se pregunta si tiene alguno de los 10 oficios requeridos en el país (Se enumerarán los oficios, contenidos en una lista, al momento de preguntar. La respuesta debe ser S o N, correspondiente a Sí o No). Luego se pregunta cuántos hijos hay en la familia. Dependiendo de la respuesta, se preguntan datos específicos de los hijos. Los datos que se preguntan de cada hijo son: Sexo (M: Masculino; F: Femenino; N: No binario). Se pregunta la fecha de nacimiento. Un parámetro importante es la edad fértil de las mujeres. Se considera la edad fértil deseable entre 20 y 35 años. Por cada año dentro de la edad fértil, se suma un punto. Por ejemplo: Si hoy es 9/nov/2023, y una de las progenitoras nació el 1/ene/2000, tendrá 23 años cumplidos, por lo cual se considera que le restan (15-(23-20)) = 12. Si tienen una hija, y tiene 5 años, aportará 35 puntos. Cada vez que el sexo de los progenitores sea F, otorgará puntos, de acuerdo con los puntos otorgados en el párrafo anterior. Si los progenitores tienen un oficio deseado (en la lista), proporcionará 8 puntos adicionales. Si tienen postgrado, suman 5 puntos adicionales; título universitario, suma 3 puntos. Cada progenitor suma 6 puntos. Cada hijo suma 8 puntos. Hacer el programa que capture toda esta información, y calcule el puntaje.\n"
      ],
      "metadata": {
        "id": "-Bh-lSfd1IN9"
      }
    },
    {
      "cell_type": "code",
      "source": [
        "from datetime import datetime\n",
        "\n",
        "def recopilar_datos_progenitor(numero):\n",
        "    print(f\"\\nDatos del Progenitor #{numero}\")\n",
        "    tipo_sexo = input(\"Ingrese el sexo del progenitor (M/F/N): \")\n",
        "    fecha_nacimiento = input(\"Ingrese la fecha de nacimiento del progenitor (YYYY-MM-DD): \")\n",
        "    grado_academico = input(\"Ingrese el grado académico del progenitor (P/U/T/N): \")\n",
        "    oficio = input(\"¿Tiene alguno de los 10 oficios requeridos? (S/N): \")\n",
        "\n",
        "    return tipo_sexo, fecha_nacimiento, grado_academico, oficio\n",
        "\n",
        "def recopilar_datos_hijo(numero):\n",
        "    print(f\"\\nDatos del Hijo #{numero}\")\n",
        "    tipo_sexo = input(\"Ingrese el sexo del hijo (M/F/N): \")\n",
        "    fecha_nacimiento = input(\"Ingrese la fecha de nacimiento del hijo (YYYY-MM-DD): \")\n",
        "\n",
        "    return tipo_sexo, fecha_nacimiento\n",
        "\n",
        "def calcular_puntajes(edad_fertil_padres, oficio_padres, grado_padres, sexo_f_padres, hijos_info):\n",
        "    puntaje_total = 0\n",
        "\n",
        "    # Calcular puntajes para los padres\n",
        "    for i in range(len(edad_fertil_padres)):\n",
        "        puntaje_total += calcular_puntaje_edad_fertil(edad_fertil_padres[i])\n",
        "\n",
        "        # Verificar si hay suficientes elementos en sexo_f_padres antes de acceder al índice\n",
        "        if i < len(sexo_f_padres):\n",
        "            puntaje_total += calcular_puntaje_sexo_f(sexo_f_padres[i])\n",
        "\n",
        "        # Verificar si hay suficientes elementos en oficio_padres antes de acceder al índice\n",
        "        if i < len(oficio_padres):\n",
        "            puntaje_total += 8 if oficio_padres[i] == 'S' else 0\n",
        "\n",
        "        # Verificar si hay suficientes elementos en grado_padres antes de acceder al índice\n",
        "        if i < len(grado_padres):\n",
        "            puntaje_total += 5 if grado_padres[i] == 'P' else (3 if grado_padres[i] == 'U' else 0)\n",
        "\n",
        "    # Calcular puntajes para los hijos\n",
        "    for hijo in hijos_info:\n",
        "        puntaje_total += calcular_puntaje_sexo_f(hijo[0])\n",
        "\n",
        "    return puntaje_total\n",
        "\n",
        "def calcular_puntaje_edad_fertil(edad_fertil):\n",
        "    return max(0, 15 - edad_fertil)\n",
        "\n",
        "def calcular_puntaje_sexo_f(sexo):\n",
        "    return 1 if sexo == 'F' else 0\n",
        "\n",
        "def main():\n",
        "    print(\"Bienvenido al programa de migración\")\n",
        "\n",
        "    # Preguntar tipo de familia\n",
        "    tipo_familia = input(\"¿La familia es monoparental o biparental? \").lower()\n",
        "\n",
        "    # Recopilar datos de progenitores\n",
        "    datos_padre = recopilar_datos_progenitor(1)\n",
        "    datos_madre = None\n",
        "\n",
        "    if tipo_familia == \"biparental\":\n",
        "        datos_madre = recopilar_datos_progenitor(2)\n",
        "\n",
        "    # Calcular edad fértil de los padres\n",
        "    fecha_actual = datetime.now()\n",
        "    edad_fertil_padres = [fecha_actual.year - int(datos_padre[1][:4])]\n",
        "    if datos_madre:\n",
        "        edad_fertil_padres.append(fecha_actual.year - int(datos_madre[1][:4]))\n",
        "\n",
        "    # Preguntar cantidad de hijos\n",
        "    cantidad_hijos = int(input(\"¿Cuántos hijos tiene la familia? \"))\n",
        "\n",
        "    # Recopilar datos de cada hijo\n",
        "    hijos_info = []\n",
        "    for i in range(1, cantidad_hijos + 1):\n",
        "        hijos_info.append(recopilar_datos_hijo(i))\n",
        "\n",
        "    # Calcular puntajes totales\n",
        "    puntaje_total = calcular_puntajes(edad_fertil_padres, [datos_padre[3]] if datos_padre else [], [datos_padre[2]] if datos_padre else [], [datos_padre[0]] if datos_padre else [], hijos_info)\n",
        "\n",
        "    # Mostrar resultados\n",
        "    print(f\"\\nEl puntaje total de la familia es: {puntaje_total}\")\n",
        "\n",
        "if __name__ == \"__main__\":\n",
        "    main()\n"
      ],
      "metadata": {
        "colab": {
          "base_uri": "https://localhost:8080/"
        },
        "id": "KnHdW-wyBarS",
        "outputId": "c6317ac7-4193-4baf-a95c-1737cbf4af86"
      },
      "execution_count": 3,
      "outputs": [
        {
          "output_type": "stream",
          "name": "stdout",
          "text": [
            "Bienvenido al programa de migración\n",
            "¿La familia es monoparental o biparental? biparental\n",
            "\n",
            "Datos del Progenitor #1\n",
            "Ingrese el sexo del progenitor (M/F/N): f\n",
            "Ingrese la fecha de nacimiento del progenitor (YYYY-MM-DD): 1970-02-03\n",
            "Ingrese el grado académico del progenitor (P/U/T/N): u\n",
            "¿Tiene alguno de los 10 oficios requeridos? (S/N): s\n",
            "\n",
            "Datos del Progenitor #2\n",
            "Ingrese el sexo del progenitor (M/F/N): m\n",
            "Ingrese la fecha de nacimiento del progenitor (YYYY-MM-DD): 1973-02-07\n",
            "Ingrese el grado académico del progenitor (P/U/T/N): n\n",
            "¿Tiene alguno de los 10 oficios requeridos? (S/N): s\n",
            "¿Cuántos hijos tiene la familia? 1\n",
            "\n",
            "Datos del Hijo #1\n",
            "Ingrese el sexo del hijo (M/F/N): f\n",
            "Ingrese la fecha de nacimiento del hijo (YYYY-MM-DD): 2003-01-10\n",
            "\n",
            "El puntaje total de la familia es: 0\n"
          ]
        }
      ]
    }
  ]
}